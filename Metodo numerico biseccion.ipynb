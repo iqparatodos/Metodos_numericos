{
  "nbformat": 4,
  "nbformat_minor": 0,
  "metadata": {
    "colab": {
      "provenance": [],
      "authorship_tag": "ABX9TyPdoec/q3ObNRhwjrNZt95N",
      "include_colab_link": true
    },
    "kernelspec": {
      "name": "python3",
      "display_name": "Python 3"
    },
    "language_info": {
      "name": "python"
    }
  },
  "cells": [
    {
      "cell_type": "markdown",
      "metadata": {
        "id": "view-in-github",
        "colab_type": "text"
      },
      "source": [
        "<a href=\"https://colab.research.google.com/github/iqparatodos/Metodos_numericos/blob/main/Metodo%20numerico%20biseccion.ipynb\" target=\"_parent\"><img src=\"https://colab.research.google.com/assets/colab-badge.svg\" alt=\"Open In Colab\"/></a>"
      ]
    },
    {
      "cell_type": "code",
      "source": [
        "#Escribir los valores iniciales y el error o tolerancia\n",
        "x1=1\n",
        "x2=2\n",
        "e=0.0001\n",
        "#Función a analizar:\n",
        "f=lambda x: x**3 + x - 5\n",
        "#Valores necesarios para el método de bisección\n",
        "xm=(x1+x2)/2\n",
        "fx1=f(x1)\n",
        "fx2=f(x2)\n",
        "fxm=f(xm)\n",
        "#Inicio del contador\n",
        "i = 0\n",
        "#Cabecera de la tabla\n",
        "print(\"{:^5}{:^15}{:^15}{:^15}{:^15}{:^15}{:^15}\".format(\"i\",\"x1\",\n",
        "                                            \"x2\",\"f(x1)\",\"f(x2)\",\"xm\",\"f(xm)\"))\n",
        "print(\"-\"*92)\n",
        "#Inicio del ciclo\n",
        "while abs(fxm) > e:\n",
        "    #Inicio del contador:\n",
        "    i = i + 1\n",
        "    #En esta parte se declara cuando se detiene el ciclo\n",
        "    if abs(fxm) <= e:\n",
        "        break\n",
        "    else:\n",
        "        #Condiciones correspondientes para la selección de los intervalos\n",
        "        xm=(x1+x2)/2\n",
        "        fx1=f(x1)\n",
        "        fx2=f(x2)\n",
        "        fxm=f(xm)\n",
        "        if fxm * fx1 < 0:\n",
        "            x2 = xm\n",
        "        else:\n",
        "            x1 = xm\n",
        "        print(\"{:^5}{:^15.6f}{:^15.6f}{:^15.6f}{:^15.6f}{:^15.6f}{:^15.6f}\".format(i,x1,x2,fx1,fx2,xm,abs(fxm)))\n",
        "print(\"-\"*92)\n",
        "print(\"La solución por el método de la bisección es: \",round(xm,6))"
      ],
      "metadata": {
        "colab": {
          "base_uri": "https://localhost:8080/"
        },
        "id": "XYKzOpdV_BmE",
        "outputId": "fc030b6c-d8f4-4041-839a-f346c434d760"
      },
      "execution_count": 45,
      "outputs": [
        {
          "output_type": "stream",
          "name": "stdout",
          "text": [
            "  i        x1             x2            f(x1)          f(x2)           xm            f(xm)     \n",
            "--------------------------------------------------------------------------------------------\n",
            "  1     1.500000       2.000000       -3.000000      5.000000       1.500000       0.125000    \n",
            "  2     1.500000       1.750000       -0.125000      5.000000       1.750000       2.109375    \n",
            "  3     1.500000       1.625000       -0.125000      2.109375       1.625000       0.916016    \n",
            "  4     1.500000       1.562500       -0.125000      0.916016       1.562500       0.377197    \n",
            "  5     1.500000       1.531250       -0.125000      0.377197       1.531250       0.121613    \n",
            "  6     1.515625       1.531250       -0.125000      0.121613       1.515625       0.002804    \n",
            "  7     1.515625       1.523438       -0.002804      0.121613       1.523438       0.059125    \n",
            "  8     1.515625       1.519531       -0.002804      0.059125       1.519531       0.028091    \n",
            "  9     1.515625       1.517578       -0.002804      0.028091       1.517578       0.012626    \n",
            " 10     1.515625       1.516602       -0.002804      0.012626       1.516602       0.004907    \n",
            " 11     1.515625       1.516113       -0.002804      0.004907       1.516113       0.001050    \n",
            " 12     1.515869       1.516113       -0.002804      0.001050       1.515869       0.000877    \n",
            " 13     1.515869       1.515991       -0.000877      0.001050       1.515991       0.000087    \n",
            "--------------------------------------------------------------------------------------------\n",
            "La solución por el método de la bisección es:  1.515991\n"
          ]
        }
      ]
    },
    {
      "cell_type": "code",
      "source": [],
      "metadata": {
        "id": "KwkPXqnSJbIB"
      },
      "execution_count": null,
      "outputs": []
    }
  ]
}