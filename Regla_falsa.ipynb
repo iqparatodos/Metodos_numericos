{
  "nbformat": 4,
  "nbformat_minor": 0,
  "metadata": {
    "colab": {
      "provenance": [],
      "authorship_tag": "ABX9TyOZzJZb7KxW7yM03fLqmRiK",
      "include_colab_link": true
    },
    "kernelspec": {
      "name": "python3",
      "display_name": "Python 3"
    },
    "language_info": {
      "name": "python"
    }
  },
  "cells": [
    {
      "cell_type": "markdown",
      "metadata": {
        "id": "view-in-github",
        "colab_type": "text"
      },
      "source": [
        "<a href=\"https://colab.research.google.com/github/iqparatodos/Metodos_numericos/blob/main/Regla_falsa.ipynb\" target=\"_parent\"><img src=\"https://colab.research.google.com/assets/colab-badge.svg\" alt=\"Open In Colab\"/></a>"
      ]
    },
    {
      "cell_type": "code",
      "execution_count": 8,
      "metadata": {
        "id": "ICcCCHXlMqST",
        "colab": {
          "base_uri": "https://localhost:8080/"
        },
        "outputId": "3c41fbbf-5c23-45cd-f503-513ef28ca168"
      },
      "outputs": [
        {
          "output_type": "stream",
          "name": "stdout",
          "text": [
            "i     X1        X2      f(X1)     f(X2)      XRF      f(XRF)  \n",
            "-------------------------------------------------------------\n",
            "1  0.000000  0.543044 -1.000000  0.841471  0.543044  0.059789 \n",
            "2  0.000000  0.512408 -1.000000  0.059789  0.512408  0.002685 \n",
            "3  0.000000  0.511036 -1.000000  0.002685  0.511036  0.000117 \n",
            "4  0.000000  0.510976 -1.000000  0.000117  0.510976  0.000005 \n",
            "-------------------------------------------------------------\n",
            "El resultado por el m{etodo de la regla falsa es:  0.510976\n"
          ]
        }
      ],
      "source": [
        "#Regla falsa\n",
        "from numpy import sin\n",
        "x1=0\n",
        "x2=1\n",
        "e=0.0001\n",
        "i=0\n",
        "#Función a analizar:\n",
        "f = lambda x: sin(x)+x-1\n",
        "#Valores necesarios para el método de la regla falsa\n",
        "xrf=(x1*f(x2)-x2*f(x1))/(f(x2)-f(x1))\n",
        "fx1=f(x1)\n",
        "fx2=f(x2)\n",
        "fxrf=abs(f(xrf))\n",
        "print(\"{:^2}{:^10}{:^10}{:^10}{:^10}{:^10}{:^10}\".format(\"i\",\n",
        "      \"X1\",\"X2\",\"f(X1)\",\"f(X2)\",\"XRF\",\"f(XRF)\"))\n",
        "print(\"-\"*61)\n",
        "while fxrf > e:\n",
        "  i=i+1\n",
        "  if fxrf <= e:\n",
        "    break\n",
        "  else:\n",
        "    xrf=(x1*f(x2)-x2*f(x1))/(f(x2)-f(x1))\n",
        "    fx1=f(x1)\n",
        "    fx2=f(x2)\n",
        "    fxrf=abs(f(xrf))\n",
        "    if fxrf*fx1<0:\n",
        "      x2=xrf\n",
        "    else:\n",
        "      x1=xrf\n",
        "    print(\"{:^2}{:^10.6f}{:^10.6f}{:^10.6f}{:^10.6f}{:^10.6f}{:^10.6f}\".format(\n",
        "        i,x1,x2,fx1,fx2,xrf,fxrf))\n",
        "print(\"-\"*61)\n",
        "print(\"El resultado por el m{etodo de la regla falsa es: \",round(xrf,6))"
      ]
    },
    {
      "cell_type": "code",
      "source": [],
      "metadata": {
        "id": "vGP1Az8l9BZb"
      },
      "execution_count": null,
      "outputs": []
    }
  ]
}