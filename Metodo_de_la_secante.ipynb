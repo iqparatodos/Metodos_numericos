{
  "nbformat": 4,
  "nbformat_minor": 0,
  "metadata": {
    "colab": {
      "provenance": [],
      "authorship_tag": "ABX9TyPVK/7Fqfy44sv5D7JHyQqV",
      "include_colab_link": true
    },
    "kernelspec": {
      "name": "python3",
      "display_name": "Python 3"
    },
    "language_info": {
      "name": "python"
    }
  },
  "cells": [
    {
      "cell_type": "markdown",
      "metadata": {
        "id": "view-in-github",
        "colab_type": "text"
      },
      "source": [
        "<a href=\"https://colab.research.google.com/github/iqparatodos/Metodos_numericos/blob/main/Metodo_de_la_secante.ipynb\" target=\"_parent\"><img src=\"https://colab.research.google.com/assets/colab-badge.svg\" alt=\"Open In Colab\"/></a>"
      ]
    },
    {
      "cell_type": "code",
      "execution_count": 3,
      "metadata": {
        "id": "BdE6qyaKAgN-",
        "colab": {
          "base_uri": "https://localhost:8080/"
        },
        "outputId": "16426364-b05b-4dc7-beed-8ce96a88bae0"
      },
      "outputs": [
        {
          "output_type": "stream",
          "name": "stdout",
          "text": [
            "i     X1        X2      f(X1)     f(X2)       X3      f(X3)   \n",
            "-------------------------------------------------------------\n",
            "1  1.000000  0.612700  1.000000 -0.632121  0.612700  0.070814 \n",
            "2  0.612700  0.563838 -0.632121 -0.070814  0.563838  0.005182 \n",
            "3  0.563838  0.567170 -0.070814  0.005182  0.567170  0.000042 \n",
            "-------------------------------------------------------------\n",
            "La respuesta por el método de la secante es: } 0.56717\n"
          ]
        }
      ],
      "source": [
        "#Metodo de la secante\n",
        "from numpy import exp\n",
        "x1=0\n",
        "x2=1\n",
        "e=0.0001\n",
        "i=0\n",
        "f=lambda x: exp(-x)-x\n",
        "fx1=f(x1)\n",
        "fx2=f(x2)\n",
        "x3=x2-(fx2*(x2-x1))/(fx2-fx1)\n",
        "fx3=abs(f(x3))\n",
        "print(\"{:^2}{:^10}{:^10}{:^10}{:^10}{:^10}{:^10}\".format(\"i\",\"X1\",\n",
        "      \"X2\",\"f(X1)\",\"f(X2)\",\"X3\",\"f(X3)\"))\n",
        "print(\"-\"*61)\n",
        "while fx3>e:\n",
        "  i=i+1\n",
        "  if fx3<=0:\n",
        "    break\n",
        "  else:\n",
        "    fx1=f(x1)\n",
        "    fx2=f(x2)\n",
        "    x3=x2-(fx2*(x2-x1))/(fx2-fx1)\n",
        "    fx3=abs(f(x3))\n",
        "    x1=x2\n",
        "    x2=x3\n",
        "  print(\"{:^2}{:^10.6f}{:^10.6f}{:^10.6f}{:^10.6f}{:^10.6f}{:^10.6f}\".format(i,\n",
        "        x1,x2,fx1,fx2,x3,fx3))\n",
        "print(\"-\"*61)\n",
        "print(\"La respuesta por el método de la secante es: }\",round(x3,6))\n"
      ]
    },
    {
      "cell_type": "code",
      "source": [],
      "metadata": {
        "id": "o5z_nwljxV7P"
      },
      "execution_count": null,
      "outputs": []
    }
  ]
}